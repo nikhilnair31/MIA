{
  "cells": [
    {
      "cell_type": "markdown",
      "metadata": {
        "id": "vmYA8nmCMfOy"
      },
      "source": [
        "# Document Chat with LangChain & PineCone"
      ]
    },
    {
      "cell_type": "markdown",
      "metadata": {
        "id": "43Z6U7XNMl0A"
      },
      "source": [
        "## Setup"
      ]
    },
    {
      "cell_type": "code",
      "execution_count": 42,
      "metadata": {
        "id": "S6k29lnn-hF7"
      },
      "outputs": [
        {
          "name": "stdout",
          "output_type": "stream",
          "text": [
            "Requirement already satisfied: openai in c:\\x\\dev\\pythonprojects\\mia\\env\\lib\\site-packages (0.27.4)\n",
            "Requirement already satisfied: langchain in c:\\x\\dev\\pythonprojects\\mia\\env\\lib\\site-packages (0.0.327)\n",
            "Requirement already satisfied: unstructured in c:\\x\\dev\\pythonprojects\\mia\\env\\lib\\site-packages (0.10.28)\n",
            "Requirement already satisfied: tiktoken in c:\\x\\dev\\pythonprojects\\mia\\env\\lib\\site-packages (0.3.1)\n",
            "Requirement already satisfied: gradio in c:\\x\\dev\\pythonprojects\\mia\\env\\lib\\site-packages (4.0.2)\n",
            "Requirement already satisfied: chromadb in c:\\x\\dev\\pythonprojects\\mia\\env\\lib\\site-packages (0.4.15)\n",
            "Requirement already satisfied: pinecone-client in c:\\x\\dev\\pythonprojects\\mia\\env\\lib\\site-packages (2.2.4)\n",
            "Collecting ipywidgets\n",
            "  Downloading ipywidgets-8.1.1-py3-none-any.whl.metadata (2.4 kB)\n",
            "Requirement already satisfied: requests>=2.20 in c:\\x\\dev\\pythonprojects\\mia\\env\\lib\\site-packages (from openai) (2.28.2)\n",
            "Requirement already satisfied: tqdm in c:\\x\\dev\\pythonprojects\\mia\\env\\lib\\site-packages (from openai) (4.65.0)\n",
            "Requirement already satisfied: aiohttp in c:\\x\\dev\\pythonprojects\\mia\\env\\lib\\site-packages (from openai) (3.8.4)\n",
            "Requirement already satisfied: PyYAML>=5.3 in c:\\x\\dev\\pythonprojects\\mia\\env\\lib\\site-packages (from langchain) (6.0.1)\n",
            "Requirement already satisfied: SQLAlchemy<3,>=1.4 in c:\\x\\dev\\pythonprojects\\mia\\env\\lib\\site-packages (from langchain) (2.0.22)\n",
            "Requirement already satisfied: anyio<4.0 in c:\\x\\dev\\pythonprojects\\mia\\env\\lib\\site-packages (from langchain) (3.7.1)\n",
            "Requirement already satisfied: dataclasses-json<0.7,>=0.5.7 in c:\\x\\dev\\pythonprojects\\mia\\env\\lib\\site-packages (from langchain) (0.6.1)\n",
            "Requirement already satisfied: jsonpatch<2.0,>=1.33 in c:\\x\\dev\\pythonprojects\\mia\\env\\lib\\site-packages (from langchain) (1.33)\n",
            "Requirement already satisfied: langsmith<0.1.0,>=0.0.52 in c:\\x\\dev\\pythonprojects\\mia\\env\\lib\\site-packages (from langchain) (0.0.54)\n",
            "Requirement already satisfied: numpy<2,>=1 in c:\\x\\dev\\pythonprojects\\mia\\env\\lib\\site-packages (from langchain) (1.26.1)\n",
            "Requirement already satisfied: pydantic<3,>=1 in c:\\x\\dev\\pythonprojects\\mia\\env\\lib\\site-packages (from langchain) (2.4.2)\n",
            "Requirement already satisfied: tenacity<9.0.0,>=8.1.0 in c:\\x\\dev\\pythonprojects\\mia\\env\\lib\\site-packages (from langchain) (8.2.3)\n",
            "Requirement already satisfied: chardet in c:\\x\\dev\\pythonprojects\\mia\\env\\lib\\site-packages (from unstructured) (5.2.0)\n",
            "Requirement already satisfied: filetype in c:\\x\\dev\\pythonprojects\\mia\\env\\lib\\site-packages (from unstructured) (1.2.0)\n",
            "Requirement already satisfied: python-magic in c:\\x\\dev\\pythonprojects\\mia\\env\\lib\\site-packages (from unstructured) (0.4.27)\n",
            "Requirement already satisfied: lxml in c:\\x\\dev\\pythonprojects\\mia\\env\\lib\\site-packages (from unstructured) (4.9.3)\n",
            "Requirement already satisfied: nltk in c:\\x\\dev\\pythonprojects\\mia\\env\\lib\\site-packages (from unstructured) (3.8.1)\n",
            "Requirement already satisfied: tabulate in c:\\x\\dev\\pythonprojects\\mia\\env\\lib\\site-packages (from unstructured) (0.9.0)\n",
            "Requirement already satisfied: beautifulsoup4 in c:\\x\\dev\\pythonprojects\\mia\\env\\lib\\site-packages (from unstructured) (4.12.2)\n",
            "Requirement already satisfied: emoji in c:\\x\\dev\\pythonprojects\\mia\\env\\lib\\site-packages (from unstructured) (2.8.0)\n",
            "Requirement already satisfied: python-iso639 in c:\\x\\dev\\pythonprojects\\mia\\env\\lib\\site-packages (from unstructured) (2023.6.15)\n",
            "Requirement already satisfied: langdetect in c:\\x\\dev\\pythonprojects\\mia\\env\\lib\\site-packages (from unstructured) (1.0.9)\n",
            "Requirement already satisfied: rapidfuzz in c:\\x\\dev\\pythonprojects\\mia\\env\\lib\\site-packages (from unstructured) (3.4.0)\n",
            "Requirement already satisfied: backoff in c:\\x\\dev\\pythonprojects\\mia\\env\\lib\\site-packages (from unstructured) (2.2.1)\n",
            "Requirement already satisfied: typing-extensions in c:\\x\\dev\\pythonprojects\\mia\\env\\lib\\site-packages (from unstructured) (4.8.0)\n",
            "Requirement already satisfied: regex>=2022.1.18 in c:\\x\\dev\\pythonprojects\\mia\\env\\lib\\site-packages (from tiktoken) (2023.3.23)\n",
            "Requirement already satisfied: aiofiles<24.0,>=22.0 in c:\\x\\dev\\pythonprojects\\mia\\env\\lib\\site-packages (from gradio) (23.1.0)\n",
            "Requirement already satisfied: altair<6.0,>=4.2.0 in c:\\x\\dev\\pythonprojects\\mia\\env\\lib\\site-packages (from gradio) (5.1.2)\n",
            "Requirement already satisfied: fastapi in c:\\x\\dev\\pythonprojects\\mia\\env\\lib\\site-packages (from gradio) (0.104.1)\n",
            "Requirement already satisfied: ffmpy in c:\\x\\dev\\pythonprojects\\mia\\env\\lib\\site-packages (from gradio) (0.3.1)\n",
            "Requirement already satisfied: gradio-client==0.7.0 in c:\\x\\dev\\pythonprojects\\mia\\env\\lib\\site-packages (from gradio) (0.7.0)\n",
            "Requirement already satisfied: httpx in c:\\x\\dev\\pythonprojects\\mia\\env\\lib\\site-packages (from gradio) (0.25.0)\n",
            "Requirement already satisfied: huggingface-hub>=0.14.0 in c:\\x\\dev\\pythonprojects\\mia\\env\\lib\\site-packages (from gradio) (0.17.3)\n",
            "Requirement already satisfied: importlib-resources<7.0,>=1.3 in c:\\x\\dev\\pythonprojects\\mia\\env\\lib\\site-packages (from gradio) (6.1.0)\n",
            "Requirement already satisfied: jinja2<4.0 in c:\\x\\dev\\pythonprojects\\mia\\env\\lib\\site-packages (from gradio) (3.1.2)\n",
            "Requirement already satisfied: markupsafe~=2.0 in c:\\x\\dev\\pythonprojects\\mia\\env\\lib\\site-packages (from gradio) (2.1.2)\n",
            "Requirement already satisfied: matplotlib~=3.0 in c:\\x\\dev\\pythonprojects\\mia\\env\\lib\\site-packages (from gradio) (3.8.1)\n",
            "Requirement already satisfied: orjson~=3.0 in c:\\x\\dev\\pythonprojects\\mia\\env\\lib\\site-packages (from gradio) (3.9.10)\n",
            "Requirement already satisfied: packaging in c:\\x\\dev\\pythonprojects\\mia\\env\\lib\\site-packages (from gradio) (23.2)\n",
            "Requirement already satisfied: pandas<3.0,>=1.0 in c:\\x\\dev\\pythonprojects\\mia\\env\\lib\\site-packages (from gradio) (2.0.0)\n",
            "Requirement already satisfied: pillow<11.0,>=8.0 in c:\\x\\dev\\pythonprojects\\mia\\env\\lib\\site-packages (from gradio) (10.1.0)\n",
            "Requirement already satisfied: pydub in c:\\x\\dev\\pythonprojects\\mia\\env\\lib\\site-packages (from gradio) (0.25.1)\n",
            "Requirement already satisfied: python-multipart in c:\\x\\dev\\pythonprojects\\mia\\env\\lib\\site-packages (from gradio) (0.0.6)\n",
            "Requirement already satisfied: semantic-version~=2.0 in c:\\x\\dev\\pythonprojects\\mia\\env\\lib\\site-packages (from gradio) (2.10.0)\n",
            "Requirement already satisfied: tomlkit==0.12.0 in c:\\x\\dev\\pythonprojects\\mia\\env\\lib\\site-packages (from gradio) (0.12.0)\n",
            "Requirement already satisfied: typer<1.0,>=0.9 in c:\\x\\dev\\pythonprojects\\mia\\env\\lib\\site-packages (from typer[all]<1.0,>=0.9->gradio) (0.9.0)\n",
            "Requirement already satisfied: uvicorn>=0.14.0 in c:\\x\\dev\\pythonprojects\\mia\\env\\lib\\site-packages (from gradio) (0.23.2)\n",
            "Requirement already satisfied: websockets<12.0,>=10.0 in c:\\x\\dev\\pythonprojects\\mia\\env\\lib\\site-packages (from gradio) (11.0.3)\n",
            "Requirement already satisfied: fsspec in c:\\x\\dev\\pythonprojects\\mia\\env\\lib\\site-packages (from gradio-client==0.7.0->gradio) (2023.10.0)\n",
            "Requirement already satisfied: chroma-hnswlib==0.7.3 in c:\\x\\dev\\pythonprojects\\mia\\env\\lib\\site-packages (from chromadb) (0.7.3)\n",
            "Requirement already satisfied: posthog>=2.4.0 in c:\\x\\dev\\pythonprojects\\mia\\env\\lib\\site-packages (from chromadb) (3.0.2)\n",
            "Requirement already satisfied: pulsar-client>=3.1.0 in c:\\x\\dev\\pythonprojects\\mia\\env\\lib\\site-packages (from chromadb) (3.3.0)\n",
            "Requirement already satisfied: onnxruntime>=1.14.1 in c:\\x\\dev\\pythonprojects\\mia\\env\\lib\\site-packages (from chromadb) (1.16.1)\n",
            "Requirement already satisfied: opentelemetry-api>=1.2.0 in c:\\x\\dev\\pythonprojects\\mia\\env\\lib\\site-packages (from chromadb) (1.20.0)\n",
            "Requirement already satisfied: opentelemetry-exporter-otlp-proto-grpc>=1.2.0 in c:\\x\\dev\\pythonprojects\\mia\\env\\lib\\site-packages (from chromadb) (1.20.0)\n",
            "Requirement already satisfied: opentelemetry-sdk>=1.2.0 in c:\\x\\dev\\pythonprojects\\mia\\env\\lib\\site-packages (from chromadb) (1.20.0)\n",
            "Requirement already satisfied: tokenizers>=0.13.2 in c:\\x\\dev\\pythonprojects\\mia\\env\\lib\\site-packages (from chromadb) (0.14.1)\n",
            "Requirement already satisfied: pypika>=0.48.9 in c:\\x\\dev\\pythonprojects\\mia\\env\\lib\\site-packages (from chromadb) (0.48.9)\n",
            "Requirement already satisfied: overrides>=7.3.1 in c:\\x\\dev\\pythonprojects\\mia\\env\\lib\\site-packages (from chromadb) (7.4.0)\n",
            "Requirement already satisfied: grpcio>=1.58.0 in c:\\x\\dev\\pythonprojects\\mia\\env\\lib\\site-packages (from chromadb) (1.59.2)\n",
            "Requirement already satisfied: bcrypt>=4.0.1 in c:\\x\\dev\\pythonprojects\\mia\\env\\lib\\site-packages (from chromadb) (4.0.1)\n",
            "Requirement already satisfied: kubernetes>=28.1.0 in c:\\x\\dev\\pythonprojects\\mia\\env\\lib\\site-packages (from chromadb) (28.1.0)\n",
            "Requirement already satisfied: loguru>=0.5.0 in c:\\x\\dev\\pythonprojects\\mia\\env\\lib\\site-packages (from pinecone-client) (0.7.2)\n",
            "Requirement already satisfied: dnspython>=2.0.0 in c:\\x\\dev\\pythonprojects\\mia\\env\\lib\\site-packages (from pinecone-client) (2.4.2)\n",
            "Requirement already satisfied: python-dateutil>=2.5.3 in c:\\x\\dev\\pythonprojects\\mia\\env\\lib\\site-packages (from pinecone-client) (2.8.2)\n",
            "Requirement already satisfied: urllib3>=1.21.1 in c:\\x\\dev\\pythonprojects\\mia\\env\\lib\\site-packages (from pinecone-client) (1.26.15)\n",
            "Requirement already satisfied: comm>=0.1.3 in c:\\x\\dev\\pythonprojects\\mia\\env\\lib\\site-packages (from ipywidgets) (0.1.4)\n",
            "Requirement already satisfied: ipython>=6.1.0 in c:\\x\\dev\\pythonprojects\\mia\\env\\lib\\site-packages (from ipywidgets) (8.17.1)\n",
            "Requirement already satisfied: traitlets>=4.3.1 in c:\\x\\dev\\pythonprojects\\mia\\env\\lib\\site-packages (from ipywidgets) (5.13.0)\n",
            "Collecting widgetsnbextension~=4.0.9 (from ipywidgets)\n",
            "  Downloading widgetsnbextension-4.0.9-py3-none-any.whl.metadata (1.6 kB)\n",
            "Collecting jupyterlab-widgets~=3.0.9 (from ipywidgets)\n",
            "  Downloading jupyterlab_widgets-3.0.9-py3-none-any.whl.metadata (4.1 kB)\n",
            "Requirement already satisfied: attrs>=17.3.0 in c:\\x\\dev\\pythonprojects\\mia\\env\\lib\\site-packages (from aiohttp->openai) (22.2.0)\n",
            "Requirement already satisfied: charset-normalizer<4.0,>=2.0 in c:\\x\\dev\\pythonprojects\\mia\\env\\lib\\site-packages (from aiohttp->openai) (3.1.0)\n",
            "Requirement already satisfied: multidict<7.0,>=4.5 in c:\\x\\dev\\pythonprojects\\mia\\env\\lib\\site-packages (from aiohttp->openai) (6.0.4)\n",
            "Requirement already satisfied: async-timeout<5.0,>=4.0.0a3 in c:\\x\\dev\\pythonprojects\\mia\\env\\lib\\site-packages (from aiohttp->openai) (4.0.2)\n",
            "Requirement already satisfied: yarl<2.0,>=1.0 in c:\\x\\dev\\pythonprojects\\mia\\env\\lib\\site-packages (from aiohttp->openai) (1.8.2)\n",
            "Requirement already satisfied: frozenlist>=1.1.1 in c:\\x\\dev\\pythonprojects\\mia\\env\\lib\\site-packages (from aiohttp->openai) (1.3.3)\n",
            "Requirement already satisfied: aiosignal>=1.1.2 in c:\\x\\dev\\pythonprojects\\mia\\env\\lib\\site-packages (from aiohttp->openai) (1.3.1)\n",
            "Requirement already satisfied: jsonschema>=3.0 in c:\\x\\dev\\pythonprojects\\mia\\env\\lib\\site-packages (from altair<6.0,>=4.2.0->gradio) (4.19.2)\n",
            "Requirement already satisfied: toolz in c:\\x\\dev\\pythonprojects\\mia\\env\\lib\\site-packages (from altair<6.0,>=4.2.0->gradio) (0.12.0)\n",
            "Requirement already satisfied: idna>=2.8 in c:\\x\\dev\\pythonprojects\\mia\\env\\lib\\site-packages (from anyio<4.0->langchain) (3.4)\n",
            "Requirement already satisfied: sniffio>=1.1 in c:\\x\\dev\\pythonprojects\\mia\\env\\lib\\site-packages (from anyio<4.0->langchain) (1.3.0)\n",
            "Requirement already satisfied: marshmallow<4.0.0,>=3.18.0 in c:\\x\\dev\\pythonprojects\\mia\\env\\lib\\site-packages (from dataclasses-json<0.7,>=0.5.7->langchain) (3.20.1)\n",
            "Requirement already satisfied: typing-inspect<1,>=0.4.0 in c:\\x\\dev\\pythonprojects\\mia\\env\\lib\\site-packages (from dataclasses-json<0.7,>=0.5.7->langchain) (0.9.0)\n",
            "Requirement already satisfied: starlette<0.28.0,>=0.27.0 in c:\\x\\dev\\pythonprojects\\mia\\env\\lib\\site-packages (from fastapi->gradio) (0.27.0)\n",
            "Requirement already satisfied: filelock in c:\\x\\dev\\pythonprojects\\mia\\env\\lib\\site-packages (from huggingface-hub>=0.14.0->gradio) (3.11.0)\n",
            "Requirement already satisfied: decorator in c:\\x\\dev\\pythonprojects\\mia\\env\\lib\\site-packages (from ipython>=6.1.0->ipywidgets) (5.1.1)\n",
            "Requirement already satisfied: jedi>=0.16 in c:\\x\\dev\\pythonprojects\\mia\\env\\lib\\site-packages (from ipython>=6.1.0->ipywidgets) (0.19.1)\n",
            "Requirement already satisfied: matplotlib-inline in c:\\x\\dev\\pythonprojects\\mia\\env\\lib\\site-packages (from ipython>=6.1.0->ipywidgets) (0.1.6)\n",
            "Requirement already satisfied: prompt-toolkit!=3.0.37,<3.1.0,>=3.0.30 in c:\\x\\dev\\pythonprojects\\mia\\env\\lib\\site-packages (from ipython>=6.1.0->ipywidgets) (3.0.39)\n",
            "Requirement already satisfied: pygments>=2.4.0 in c:\\x\\dev\\pythonprojects\\mia\\env\\lib\\site-packages (from ipython>=6.1.0->ipywidgets) (2.16.1)\n",
            "Requirement already satisfied: stack-data in c:\\x\\dev\\pythonprojects\\mia\\env\\lib\\site-packages (from ipython>=6.1.0->ipywidgets) (0.6.3)\n",
            "Requirement already satisfied: colorama in c:\\x\\dev\\pythonprojects\\mia\\env\\lib\\site-packages (from ipython>=6.1.0->ipywidgets) (0.4.6)\n",
            "Requirement already satisfied: jsonpointer>=1.9 in c:\\x\\dev\\pythonprojects\\mia\\env\\lib\\site-packages (from jsonpatch<2.0,>=1.33->langchain) (2.4)\n",
            "Requirement already satisfied: certifi>=14.05.14 in c:\\x\\dev\\pythonprojects\\mia\\env\\lib\\site-packages (from kubernetes>=28.1.0->chromadb) (2022.12.7)\n",
            "Requirement already satisfied: six>=1.9.0 in c:\\x\\dev\\pythonprojects\\mia\\env\\lib\\site-packages (from kubernetes>=28.1.0->chromadb) (1.16.0)\n",
            "Requirement already satisfied: google-auth>=1.0.1 in c:\\x\\dev\\pythonprojects\\mia\\env\\lib\\site-packages (from kubernetes>=28.1.0->chromadb) (2.17.3)\n",
            "Requirement already satisfied: websocket-client!=0.40.0,!=0.41.*,!=0.42.*,>=0.32.0 in c:\\x\\dev\\pythonprojects\\mia\\env\\lib\\site-packages (from kubernetes>=28.1.0->chromadb) (1.6.4)\n",
            "Requirement already satisfied: requests-oauthlib in c:\\x\\dev\\pythonprojects\\mia\\env\\lib\\site-packages (from kubernetes>=28.1.0->chromadb) (1.3.1)\n",
            "Requirement already satisfied: oauthlib>=3.2.2 in c:\\x\\dev\\pythonprojects\\mia\\env\\lib\\site-packages (from kubernetes>=28.1.0->chromadb) (3.2.2)\n",
            "Requirement already satisfied: win32-setctime>=1.0.0 in c:\\x\\dev\\pythonprojects\\mia\\env\\lib\\site-packages (from loguru>=0.5.0->pinecone-client) (1.1.0)\n",
            "Requirement already satisfied: contourpy>=1.0.1 in c:\\x\\dev\\pythonprojects\\mia\\env\\lib\\site-packages (from matplotlib~=3.0->gradio) (1.1.1)\n",
            "Requirement already satisfied: cycler>=0.10 in c:\\x\\dev\\pythonprojects\\mia\\env\\lib\\site-packages (from matplotlib~=3.0->gradio) (0.12.1)\n",
            "Requirement already satisfied: fonttools>=4.22.0 in c:\\x\\dev\\pythonprojects\\mia\\env\\lib\\site-packages (from matplotlib~=3.0->gradio) (4.43.1)\n",
            "Requirement already satisfied: kiwisolver>=1.3.1 in c:\\x\\dev\\pythonprojects\\mia\\env\\lib\\site-packages (from matplotlib~=3.0->gradio) (1.4.5)\n",
            "Requirement already satisfied: pyparsing>=2.3.1 in c:\\x\\dev\\pythonprojects\\mia\\env\\lib\\site-packages (from matplotlib~=3.0->gradio) (3.0.9)\n",
            "Requirement already satisfied: coloredlogs in c:\\x\\dev\\pythonprojects\\mia\\env\\lib\\site-packages (from onnxruntime>=1.14.1->chromadb) (15.0.1)\n",
            "Requirement already satisfied: flatbuffers in c:\\x\\dev\\pythonprojects\\mia\\env\\lib\\site-packages (from onnxruntime>=1.14.1->chromadb) (23.5.26)\n",
            "Requirement already satisfied: protobuf in c:\\x\\dev\\pythonprojects\\mia\\env\\lib\\site-packages (from onnxruntime>=1.14.1->chromadb) (4.24.4)\n",
            "Requirement already satisfied: sympy in c:\\x\\dev\\pythonprojects\\mia\\env\\lib\\site-packages (from onnxruntime>=1.14.1->chromadb) (1.11.1)\n",
            "Requirement already satisfied: deprecated>=1.2.6 in c:\\x\\dev\\pythonprojects\\mia\\env\\lib\\site-packages (from opentelemetry-api>=1.2.0->chromadb) (1.2.14)\n",
            "Requirement already satisfied: importlib-metadata<7.0,>=6.0 in c:\\x\\dev\\pythonprojects\\mia\\env\\lib\\site-packages (from opentelemetry-api>=1.2.0->chromadb) (6.2.1)\n",
            "Requirement already satisfied: googleapis-common-protos~=1.52 in c:\\x\\dev\\pythonprojects\\mia\\env\\lib\\site-packages (from opentelemetry-exporter-otlp-proto-grpc>=1.2.0->chromadb) (1.61.0)\n",
            "Requirement already satisfied: opentelemetry-exporter-otlp-proto-common==1.20.0 in c:\\x\\dev\\pythonprojects\\mia\\env\\lib\\site-packages (from opentelemetry-exporter-otlp-proto-grpc>=1.2.0->chromadb) (1.20.0)\n",
            "Requirement already satisfied: opentelemetry-proto==1.20.0 in c:\\x\\dev\\pythonprojects\\mia\\env\\lib\\site-packages (from opentelemetry-exporter-otlp-proto-grpc>=1.2.0->chromadb) (1.20.0)\n",
            "Requirement already satisfied: opentelemetry-semantic-conventions==0.41b0 in c:\\x\\dev\\pythonprojects\\mia\\env\\lib\\site-packages (from opentelemetry-sdk>=1.2.0->chromadb) (0.41b0)\n",
            "Requirement already satisfied: pytz>=2020.1 in c:\\x\\dev\\pythonprojects\\mia\\env\\lib\\site-packages (from pandas<3.0,>=1.0->gradio) (2023.3)\n",
            "Requirement already satisfied: tzdata>=2022.1 in c:\\x\\dev\\pythonprojects\\mia\\env\\lib\\site-packages (from pandas<3.0,>=1.0->gradio) (2023.3)\n",
            "Requirement already satisfied: monotonic>=1.5 in c:\\x\\dev\\pythonprojects\\mia\\env\\lib\\site-packages (from posthog>=2.4.0->chromadb) (1.6)\n",
            "Requirement already satisfied: annotated-types>=0.4.0 in c:\\x\\dev\\pythonprojects\\mia\\env\\lib\\site-packages (from pydantic<3,>=1->langchain) (0.6.0)\n",
            "Requirement already satisfied: pydantic-core==2.10.1 in c:\\x\\dev\\pythonprojects\\mia\\env\\lib\\site-packages (from pydantic<3,>=1->langchain) (2.10.1)\n",
            "Requirement already satisfied: greenlet!=0.4.17 in c:\\x\\dev\\pythonprojects\\mia\\env\\lib\\site-packages (from SQLAlchemy<3,>=1.4->langchain) (3.0.1)\n",
            "Requirement already satisfied: click<9.0.0,>=7.1.1 in c:\\x\\dev\\pythonprojects\\mia\\env\\lib\\site-packages (from typer<1.0,>=0.9->typer[all]<1.0,>=0.9->gradio) (8.1.7)\n",
            "Requirement already satisfied: shellingham<2.0.0,>=1.3.0 in c:\\x\\dev\\pythonprojects\\mia\\env\\lib\\site-packages (from typer[all]<1.0,>=0.9->gradio) (1.5.4)\n",
            "Requirement already satisfied: rich<14.0.0,>=10.11.0 in c:\\x\\dev\\pythonprojects\\mia\\env\\lib\\site-packages (from typer[all]<1.0,>=0.9->gradio) (13.6.0)\n",
            "Requirement already satisfied: h11>=0.8 in c:\\x\\dev\\pythonprojects\\mia\\env\\lib\\site-packages (from uvicorn>=0.14.0->gradio) (0.14.0)\n",
            "Requirement already satisfied: httptools>=0.5.0 in c:\\x\\dev\\pythonprojects\\mia\\env\\lib\\site-packages (from uvicorn[standard]>=0.18.3->chromadb) (0.6.1)\n",
            "Requirement already satisfied: python-dotenv>=0.13 in c:\\x\\dev\\pythonprojects\\mia\\env\\lib\\site-packages (from uvicorn[standard]>=0.18.3->chromadb) (1.0.0)\n",
            "Requirement already satisfied: watchfiles>=0.13 in c:\\x\\dev\\pythonprojects\\mia\\env\\lib\\site-packages (from uvicorn[standard]>=0.18.3->chromadb) (0.21.0)\n",
            "Requirement already satisfied: soupsieve>1.2 in c:\\x\\dev\\pythonprojects\\mia\\env\\lib\\site-packages (from beautifulsoup4->unstructured) (2.5)\n",
            "Requirement already satisfied: httpcore<0.19.0,>=0.18.0 in c:\\x\\dev\\pythonprojects\\mia\\env\\lib\\site-packages (from httpx->gradio) (0.18.0)\n",
            "Requirement already satisfied: joblib in c:\\x\\dev\\pythonprojects\\mia\\env\\lib\\site-packages (from nltk->unstructured) (1.3.2)\n",
            "Requirement already satisfied: wrapt<2,>=1.10 in c:\\x\\dev\\pythonprojects\\mia\\env\\lib\\site-packages (from deprecated>=1.2.6->opentelemetry-api>=1.2.0->chromadb) (1.15.0)\n",
            "Requirement already satisfied: cachetools<6.0,>=2.0.0 in c:\\x\\dev\\pythonprojects\\mia\\env\\lib\\site-packages (from google-auth>=1.0.1->kubernetes>=28.1.0->chromadb) (5.3.0)\n",
            "Requirement already satisfied: pyasn1-modules>=0.2.1 in c:\\x\\dev\\pythonprojects\\mia\\env\\lib\\site-packages (from google-auth>=1.0.1->kubernetes>=28.1.0->chromadb) (0.3.0)\n",
            "Requirement already satisfied: rsa<5,>=3.1.4 in c:\\x\\dev\\pythonprojects\\mia\\env\\lib\\site-packages (from google-auth>=1.0.1->kubernetes>=28.1.0->chromadb) (4.9)\n",
            "Requirement already satisfied: zipp>=0.5 in c:\\x\\dev\\pythonprojects\\mia\\env\\lib\\site-packages (from importlib-metadata<7.0,>=6.0->opentelemetry-api>=1.2.0->chromadb) (3.15.0)\n",
            "Requirement already satisfied: parso<0.9.0,>=0.8.3 in c:\\x\\dev\\pythonprojects\\mia\\env\\lib\\site-packages (from jedi>=0.16->ipython>=6.1.0->ipywidgets) (0.8.3)\n",
            "Requirement already satisfied: jsonschema-specifications>=2023.03.6 in c:\\x\\dev\\pythonprojects\\mia\\env\\lib\\site-packages (from jsonschema>=3.0->altair<6.0,>=4.2.0->gradio) (2023.7.1)\n",
            "Requirement already satisfied: referencing>=0.28.4 in c:\\x\\dev\\pythonprojects\\mia\\env\\lib\\site-packages (from jsonschema>=3.0->altair<6.0,>=4.2.0->gradio) (0.30.2)\n",
            "Requirement already satisfied: rpds-py>=0.7.1 in c:\\x\\dev\\pythonprojects\\mia\\env\\lib\\site-packages (from jsonschema>=3.0->altair<6.0,>=4.2.0->gradio) (0.10.6)\n",
            "Requirement already satisfied: wcwidth in c:\\x\\dev\\pythonprojects\\mia\\env\\lib\\site-packages (from prompt-toolkit!=3.0.37,<3.1.0,>=3.0.30->ipython>=6.1.0->ipywidgets) (0.2.8)\n",
            "Requirement already satisfied: markdown-it-py>=2.2.0 in c:\\x\\dev\\pythonprojects\\mia\\env\\lib\\site-packages (from rich<14.0.0,>=10.11.0->typer[all]<1.0,>=0.9->gradio) (3.0.0)\n",
            "Requirement already satisfied: mypy-extensions>=0.3.0 in c:\\x\\dev\\pythonprojects\\mia\\env\\lib\\site-packages (from typing-inspect<1,>=0.4.0->dataclasses-json<0.7,>=0.5.7->langchain) (1.0.0)\n",
            "Requirement already satisfied: humanfriendly>=9.1 in c:\\x\\dev\\pythonprojects\\mia\\env\\lib\\site-packages (from coloredlogs->onnxruntime>=1.14.1->chromadb) (10.0)\n",
            "Requirement already satisfied: executing>=1.2.0 in c:\\x\\dev\\pythonprojects\\mia\\env\\lib\\site-packages (from stack-data->ipython>=6.1.0->ipywidgets) (2.0.1)\n",
            "Requirement already satisfied: asttokens>=2.1.0 in c:\\x\\dev\\pythonprojects\\mia\\env\\lib\\site-packages (from stack-data->ipython>=6.1.0->ipywidgets) (2.4.1)\n",
            "Requirement already satisfied: pure-eval in c:\\x\\dev\\pythonprojects\\mia\\env\\lib\\site-packages (from stack-data->ipython>=6.1.0->ipywidgets) (0.2.2)\n",
            "Requirement already satisfied: mpmath>=0.19 in c:\\x\\dev\\pythonprojects\\mia\\env\\lib\\site-packages (from sympy->onnxruntime>=1.14.1->chromadb) (1.3.0)\n",
            "Requirement already satisfied: pyreadline3 in c:\\x\\dev\\pythonprojects\\mia\\env\\lib\\site-packages (from humanfriendly>=9.1->coloredlogs->onnxruntime>=1.14.1->chromadb) (3.4.1)\n",
            "Requirement already satisfied: mdurl~=0.1 in c:\\x\\dev\\pythonprojects\\mia\\env\\lib\\site-packages (from markdown-it-py>=2.2.0->rich<14.0.0,>=10.11.0->typer[all]<1.0,>=0.9->gradio) (0.1.2)\n",
            "Requirement already satisfied: pyasn1<0.6.0,>=0.4.6 in c:\\x\\dev\\pythonprojects\\mia\\env\\lib\\site-packages (from pyasn1-modules>=0.2.1->google-auth>=1.0.1->kubernetes>=28.1.0->chromadb) (0.5.0)\n",
            "Downloading ipywidgets-8.1.1-py3-none-any.whl (139 kB)\n",
            "   ---------------------------------------- 0.0/139.4 kB ? eta -:--:--\n",
            "   -------------------- ------------------- 71.7/139.4 kB 2.0 MB/s eta 0:00:01\n",
            "   -------------------- ------------------- 71.7/139.4 kB 2.0 MB/s eta 0:00:01\n",
            "   -------------------- ------------------- 71.7/139.4 kB 2.0 MB/s eta 0:00:01\n",
            "   -------------------- ------------------- 71.7/139.4 kB 2.0 MB/s eta 0:00:01\n",
            "   -------------------- ------------------- 71.7/139.4 kB 2.0 MB/s eta 0:00:01\n",
            "   -------------------- ------------------- 71.7/139.4 kB 2.0 MB/s eta 0:00:01\n",
            "   -------------------- ------------------- 71.7/139.4 kB 2.0 MB/s eta 0:00:01\n",
            "   ------------------------------------ - 133.1/139.4 kB 374.6 kB/s eta 0:00:01\n",
            "   -------------------------------------- 139.4/139.4 kB 344.5 kB/s eta 0:00:00\n",
            "Downloading jupyterlab_widgets-3.0.9-py3-none-any.whl (214 kB)\n",
            "   ---------------------------------------- 0.0/214.9 kB ? eta -:--:--\n",
            "   ------- ------------------------------- 41.0/214.9 kB 653.6 kB/s eta 0:00:01\n",
            "   ---------------- ---------------------- 92.2/214.9 kB 871.5 kB/s eta 0:00:01\n",
            "   --------------------- ---------------- 122.9/214.9 kB 901.1 kB/s eta 0:00:01\n",
            "   ------------------------------ ------- 174.1/214.9 kB 952.6 kB/s eta 0:00:01\n",
            "   -------------------------------------- 214.9/214.9 kB 934.6 kB/s eta 0:00:00\n",
            "Downloading widgetsnbextension-4.0.9-py3-none-any.whl (2.3 MB)\n",
            "   ---------------------------------------- 0.0/2.3 MB ? eta -:--:--\n",
            "   - -------------------------------------- 0.1/2.3 MB 1.7 MB/s eta 0:00:02\n",
            "   --- ------------------------------------ 0.2/2.3 MB 1.3 MB/s eta 0:00:02\n",
            "   --- ------------------------------------ 0.2/2.3 MB 1.4 MB/s eta 0:00:02\n",
            "   ---- ----------------------------------- 0.3/2.3 MB 1.4 MB/s eta 0:00:02\n",
            "   ----- ---------------------------------- 0.3/2.3 MB 1.3 MB/s eta 0:00:02\n",
            "   ------- -------------------------------- 0.4/2.3 MB 1.3 MB/s eta 0:00:02\n",
            "   -------- ------------------------------- 0.5/2.3 MB 1.3 MB/s eta 0:00:02\n",
            "   --------- ------------------------------ 0.5/2.3 MB 1.3 MB/s eta 0:00:02\n",
            "   ----------- ---------------------------- 0.6/2.3 MB 1.3 MB/s eta 0:00:02\n",
            "   ------------ --------------------------- 0.7/2.3 MB 1.3 MB/s eta 0:00:02\n",
            "   ------------- -------------------------- 0.8/2.3 MB 1.3 MB/s eta 0:00:02\n",
            "   ------------- -------------------------- 0.8/2.3 MB 1.3 MB/s eta 0:00:02\n",
            "   -------------- ------------------------- 0.9/2.3 MB 1.3 MB/s eta 0:00:02\n",
            "   ---------------- ----------------------- 0.9/2.3 MB 1.3 MB/s eta 0:00:02\n",
            "   ------------------ --------------------- 1.0/2.3 MB 1.3 MB/s eta 0:00:01\n",
            "   ------------------- -------------------- 1.1/2.3 MB 1.3 MB/s eta 0:00:01\n",
            "   -------------------- ------------------- 1.2/2.3 MB 1.3 MB/s eta 0:00:01\n",
            "   --------------------- ------------------ 1.2/2.3 MB 1.3 MB/s eta 0:00:01\n",
            "   ----------------------- ---------------- 1.4/2.3 MB 1.3 MB/s eta 0:00:01\n",
            "   ------------------------- -------------- 1.5/2.3 MB 1.3 MB/s eta 0:00:01\n",
            "   -------------------------- ------------- 1.5/2.3 MB 1.3 MB/s eta 0:00:01\n",
            "   --------------------------- ------------ 1.6/2.3 MB 1.4 MB/s eta 0:00:01\n",
            "   ---------------------------- ----------- 1.6/2.3 MB 1.3 MB/s eta 0:00:01\n",
            "   ----------------------------- ---------- 1.7/2.3 MB 1.3 MB/s eta 0:00:01\n",
            "   ------------------------------- -------- 1.8/2.3 MB 1.4 MB/s eta 0:00:01\n",
            "   -------------------------------- ------- 1.9/2.3 MB 1.4 MB/s eta 0:00:01\n",
            "   --------------------------------- ------ 1.9/2.3 MB 1.4 MB/s eta 0:00:01\n",
            "   ----------------------------------- ---- 2.0/2.3 MB 1.4 MB/s eta 0:00:01\n",
            "   ------------------------------------ --- 2.1/2.3 MB 1.4 MB/s eta 0:00:01\n",
            "   -------------------------------------- - 2.2/2.3 MB 1.4 MB/s eta 0:00:01\n",
            "   ---------------------------------------  2.3/2.3 MB 1.4 MB/s eta 0:00:01\n",
            "   ---------------------------------------- 2.3/2.3 MB 1.4 MB/s eta 0:00:00\n",
            "Installing collected packages: widgetsnbextension, jupyterlab-widgets, ipywidgets\n",
            "Successfully installed ipywidgets-8.1.1 jupyterlab-widgets-3.0.9 widgetsnbextension-4.0.9\n"
          ]
        }
      ],
      "source": [
        "!pip install openai langchain unstructured tiktoken gradio chromadb pinecone-client ipywidgets"
      ]
    },
    {
      "cell_type": "code",
      "execution_count": 4,
      "metadata": {
        "id": "EL9SFDqQ_F-O"
      },
      "outputs": [],
      "source": [
        "import os\n",
        "from dotenv import load_dotenv\n",
        "from langchain.text_splitter import CharacterTextSplitter\n",
        "from langchain.vectorstores import Pinecone, Chroma\n",
        "from langchain.embeddings.openai import OpenAIEmbeddings\n",
        "from langchain.chains import ConversationalRetrievalChain\n",
        "from langchain.chat_models import ChatOpenAI"
      ]
    },
    {
      "cell_type": "code",
      "execution_count": 5,
      "metadata": {
        "id": "v_3FRN1dAbGc"
      },
      "outputs": [],
      "source": [
        "load_dotenv()\n",
        "\n",
        "os.environ[\"OPENAI_API_KEY\"] = os.getenv(\"OPENAI_API_KEY\")\n",
        "PINECONE_API_KEY = str(os.getenv(\"PINECONE_API_KEY\"))\n",
        "PINECONE_ENV = str(os.getenv(\"PINECONE_ENV_KEY\"))"
      ]
    },
    {
      "cell_type": "markdown",
      "metadata": {
        "id": "CVKH8f-mqowj"
      },
      "source": [
        "## LangChain Document Loader"
      ]
    },
    {
      "cell_type": "code",
      "execution_count": 49,
      "metadata": {
        "id": "9bCdJGpTB8Dp"
      },
      "outputs": [
        {
          "name": "stdout",
          "output_type": "stream",
          "text": [
            "You have 206 document(s) in your data\n",
            "There are 97 characters in your document\n"
          ]
        }
      ],
      "source": [
        "from langchain.document_loaders import DirectoryLoader\n",
        "\n",
        "txt_loader = DirectoryLoader(r'.\\transcripts', glob=\"**/*.txt\")\n",
        "\n",
        "loaders = [txt_loader]\n",
        "\n",
        "documents = []\n",
        "for loader in loaders:\n",
        "    documents.extend(loader.load())\n",
        "\n",
        "print (f'You have {len(documents)} document(s) in your data')\n",
        "print (f'There are {len(documents[153].page_content)} characters in your document')"
      ]
    },
    {
      "cell_type": "code",
      "execution_count": 57,
      "metadata": {
        "colab": {
          "base_uri": "https://localhost:8080/"
        },
        "id": "wx0j1rnwGW48",
        "outputId": "e5a9f956-dc7d-4c64-c4b7-d19ac607b648"
      },
      "outputs": [
        {
          "data": {
            "text/plain": [
              "Document(page_content=\"basically you've got the same sort of conversation chain.\", metadata={'source': 'transcripts\\\\115.txt'})"
            ]
          },
          "execution_count": 57,
          "metadata": {},
          "output_type": "execute_result"
        }
      ],
      "source": [
        "documents[19]"
      ]
    },
    {
      "cell_type": "markdown",
      "metadata": {
        "id": "01sK31QQGuQ1"
      },
      "source": [
        "### Split the Text from the documents"
      ]
    },
    {
      "cell_type": "code",
      "execution_count": 58,
      "metadata": {
        "colab": {
          "base_uri": "https://localhost:8080/"
        },
        "id": "pS6iEnTxGkku",
        "outputId": "ba436850-2429-4379-d92a-21ceb34b4d54"
      },
      "outputs": [],
      "source": [
        "text_splitter = CharacterTextSplitter(chunk_size=1000, chunk_overlap=40) #chunk overlap seems to work better\n",
        "documents = text_splitter.split_documents(documents)"
      ]
    },
    {
      "cell_type": "code",
      "execution_count": 59,
      "metadata": {},
      "outputs": [
        {
          "name": "stdout",
          "output_type": "stream",
          "text": [
            "199\n"
          ]
        }
      ],
      "source": [
        "print(len(documents))"
      ]
    },
    {
      "cell_type": "code",
      "execution_count": 61,
      "metadata": {
        "colab": {
          "base_uri": "https://localhost:8080/"
        },
        "id": "i-pByaC1HHR9",
        "outputId": "d3bd31bc-43be-49c9-d521-bf28ccae2ed2"
      },
      "outputs": [
        {
          "data": {
            "text/plain": [
              "Document(page_content='about bankruptcy on YouTube.', metadata={'source': 'transcripts\\\\26.txt'})"
            ]
          },
          "execution_count": 61,
          "metadata": {},
          "output_type": "execute_result"
        }
      ],
      "source": [
        "documents[121]"
      ]
    },
    {
      "cell_type": "markdown",
      "metadata": {
        "id": "Wx6JtYgWHZvL"
      },
      "source": [
        "## PineCone"
      ]
    },
    {
      "cell_type": "markdown",
      "metadata": {},
      "source": [
        "### Set up embeddings"
      ]
    },
    {
      "cell_type": "code",
      "execution_count": 62,
      "metadata": {
        "id": "XI--vvaJHOgn"
      },
      "outputs": [],
      "source": [
        "embeddings = OpenAIEmbeddings()"
      ]
    },
    {
      "cell_type": "markdown",
      "metadata": {
        "id": "bdILt9zkMGWC"
      },
      "source": [
        "### Using pinecone for storing vectors"
      ]
    },
    {
      "cell_type": "code",
      "execution_count": 63,
      "metadata": {},
      "outputs": [],
      "source": [
        "import pinecone\n",
        "from tqdm.autonotebook import tqdm"
      ]
    },
    {
      "cell_type": "code",
      "execution_count": 64,
      "metadata": {
        "id": "a4lCSdF6fTRo"
      },
      "outputs": [],
      "source": [
        "pinecone.init(\n",
        "    api_key=PINECONE_API_KEY,  # find at app.pinecone.io\n",
        "    environment=PINECONE_ENV  # next to api key in console\n",
        ")\n",
        "vectorstore = Pinecone.from_documents(documents, embeddings, index_name=\"mia\")"
      ]
    },
    {
      "cell_type": "code",
      "execution_count": 66,
      "metadata": {
        "id": "dbUFZWoXJ3d2"
      },
      "outputs": [
        {
          "name": "stdout",
          "output_type": "stream",
          "text": [
            "[Document(page_content=\"is excessive caffeine. This isn't just like one energy drink.\", metadata={'source': 'transcripts\\\\68.txt'}), Document(page_content=\"is excessive caffeine. This isn't just like one energy drink.\", metadata={'source': 'transcripts\\\\68.txt'}), Document(page_content='Let drink bang energy just because of the fucking super creatine claims. What are you talking about?', metadata={'source': 'transcripts\\\\71.txt'}), Document(page_content='Let drink bang energy just because of the fucking super creatine claims. What are you talking about?', metadata={'source': 'transcripts\\\\71.txt'})]\n",
            "4\n",
            "is excessive caffeine. This isn't just like one energy drink.\n"
          ]
        }
      ],
      "source": [
        "query = \"Name an energy drink\"\n",
        "docs = vectorstore.similarity_search(query)\n",
        "print(docs)\n",
        "print(len(docs))\n",
        "print(docs[0].page_content)"
      ]
    },
    {
      "cell_type": "markdown",
      "metadata": {
        "id": "keEibikCN6-w"
      },
      "source": [
        "## Chaining with Chat History"
      ]
    },
    {
      "cell_type": "code",
      "execution_count": 74,
      "metadata": {
        "id": "IiSQ4IQCtDT8"
      },
      "outputs": [],
      "source": [
        "from langchain.llms import OpenAI"
      ]
    },
    {
      "cell_type": "code",
      "execution_count": 80,
      "metadata": {
        "id": "_ZGMwOuaNiHZ"
      },
      "outputs": [],
      "source": [
        "retriever = vectorstore.as_retriever(search_type=\"similarity\", search_kwargs={\"k\":3})\n",
        "qa = ConversationalRetrievalChain.from_llm(OpenAI(temperature=0.9), retriever)\n",
        "chat_history = []"
      ]
    },
    {
      "cell_type": "code",
      "execution_count": 81,
      "metadata": {
        "colab": {
          "base_uri": "https://localhost:8080/",
          "height": 36
        },
        "id": "LxpEcvZYoN3D",
        "outputId": "9b0c3539-9e1d-49f6-8e69-c8798680e391"
      },
      "outputs": [
        {
          "data": {
            "text/plain": [
              "' Bang Energy'"
            ]
          },
          "execution_count": 81,
          "metadata": {},
          "output_type": "execute_result"
        }
      ],
      "source": [
        "query = \"What was the energy drink I heard recently?\"\n",
        "result = qa({\"question\": query, \"chat_history\": chat_history})\n",
        "chat_history.append((query, result[\"answer\"]))\n",
        "result[\"answer\"]"
      ]
    },
    {
      "cell_type": "code",
      "execution_count": 82,
      "metadata": {
        "colab": {
          "base_uri": "https://localhost:8080/",
          "height": 36
        },
        "id": "wtn22jDK_6Qj",
        "outputId": "eb65e3e9-b1a4-4680-c8b6-e7b215b4cc7a"
      },
      "outputs": [
        {
          "data": {
            "text/plain": [
              "' The owner of Bang Energy is the absolute unhinged CEO of BANG!.'"
            ]
          },
          "execution_count": 82,
          "metadata": {},
          "output_type": "execute_result"
        }
      ],
      "source": [
        "query = \"Who is its owner\"\n",
        "result = qa({\"question\": query, \"chat_history\": chat_history})\n",
        "chat_history.append((query, result[\"answer\"]))\n",
        "result[\"answer\"]"
      ]
    },
    {
      "cell_type": "code",
      "execution_count": 83,
      "metadata": {},
      "outputs": [
        {
          "data": {
            "text/plain": [
              "\" I don't know.\""
            ]
          },
          "execution_count": 83,
          "metadata": {},
          "output_type": "execute_result"
        }
      ],
      "source": [
        "query = \"Yeah but whats his name\"\n",
        "result = qa({\"question\": query, \"chat_history\": chat_history})\n",
        "chat_history.append((query, result[\"answer\"]))\n",
        "result[\"answer\"]"
      ]
    },
    {
      "cell_type": "markdown",
      "metadata": {
        "id": "X5oduK4NVv1e"
      },
      "source": [
        "## Chatbot"
      ]
    },
    {
      "cell_type": "code",
      "execution_count": 72,
      "metadata": {
        "id": "vYMWTZoxV1Rq"
      },
      "outputs": [],
      "source": [
        "from IPython.display import display\n",
        "import ipywidgets as widgets"
      ]
    },
    {
      "cell_type": "code",
      "execution_count": 73,
      "metadata": {
        "colab": {
          "base_uri": "https://localhost:8080/",
          "height": 214,
          "referenced_widgets": [
            "93bdfcd316b94785a9f63b54fb2e7eed",
            "194fcb196a394e8cb78d9e39ef9461c0",
            "87f711d699b443eeac5301e31e139210",
            "5434caeb5dc840a0a1996b7f1151e9d1",
            "52fddac56425425fb1b3f6c41a83ad40",
            "6119c20941e645fe85777d8a40134f45",
            "7ebbefa2c67d44a6bb7a1ceaf61f9b63",
            "da35600790c34a9db211e75bbd47d00b",
            "0a59ae49aefe454dac82fd3cfa509201",
            "9c92fcac4b2b44dabe4210335e479af6",
            "d30bddef5eff4ba39adbfc977d1b543d",
            "3f22048167ab4e6a99ff352e4881d6f5",
            "8217b151f57a44d68f2135fba059de9f",
            "96f4fd5d75874fa3a9ba1f6d74b86855",
            "cb41fc15e4e84ddea00a1a63544486b6"
          ]
        },
        "id": "Q88JFgfLV9hQ",
        "outputId": "b262ee30-8863-46b5-e6e0-7160c6f17bf9"
      },
      "outputs": [
        {
          "name": "stdout",
          "output_type": "stream",
          "text": [
            "Chat with your data. Type 'exit' to stop\n"
          ]
        },
        {
          "name": "stderr",
          "output_type": "stream",
          "text": [
            "C:\\Users\\nikna\\AppData\\Local\\Temp\\ipykernel_21340\\2412228090.py:20: DeprecationWarning: on_submit is deprecated. Instead, set the .continuous_update attribute to False and observe the value changing with: mywidget.observe(callback, 'value').\n",
            "  input_box.on_submit(on_submit)\n"
          ]
        },
        {
          "data": {
            "application/vnd.jupyter.widget-view+json": {
              "model_id": "c0cae3e9df824d93b272e770035d31d2",
              "version_major": 2,
              "version_minor": 0
            },
            "text/plain": [
              "Text(value='', placeholder='Please enter your question:')"
            ]
          },
          "metadata": {},
          "output_type": "display_data"
        },
        {
          "data": {
            "application/vnd.jupyter.widget-view+json": {
              "model_id": "c259d14e67ce4f17ad0993cd926b7f75",
              "version_major": 2,
              "version_minor": 0
            },
            "text/plain": [
              "HTML(value=\"<b>User:</b> Yoo what's up\")"
            ]
          },
          "metadata": {},
          "output_type": "display_data"
        },
        {
          "data": {
            "application/vnd.jupyter.widget-view+json": {
              "model_id": "282a4468de3f48929c98c6f30eaa7b6a",
              "version_major": 2,
              "version_minor": 0
            },
            "text/plain": [
              "HTML(value='<b><font color=\"Red\">Chatbot:</font></b>  Hi! I\\'m good. How about you?')"
            ]
          },
          "metadata": {},
          "output_type": "display_data"
        },
        {
          "data": {
            "application/vnd.jupyter.widget-view+json": {
              "model_id": "bee205bc4c3f4ff69249e13a2c51bc1f",
              "version_major": 2,
              "version_minor": 0
            },
            "text/plain": [
              "HTML(value=\"<b>User:</b> what's bang's ceo's name?\")"
            ]
          },
          "metadata": {},
          "output_type": "display_data"
        },
        {
          "data": {
            "application/vnd.jupyter.widget-view+json": {
              "model_id": "e013a9c02d014417bfa512f725dadcb8",
              "version_major": 2,
              "version_minor": 0
            },
            "text/plain": [
              "HTML(value='<b><font color=\"Red\">Chatbot:</font></b>  I don\\'t know.')"
            ]
          },
          "metadata": {},
          "output_type": "display_data"
        },
        {
          "data": {
            "application/vnd.jupyter.widget-view+json": {
              "model_id": "1880468bc6c0473da8599f7fa1bd1a81",
              "version_major": 2,
              "version_minor": 0
            },
            "text/plain": [
              "HTML(value=\"<b>User:</b> don't they have a lawsuit?\")"
            ]
          },
          "metadata": {},
          "output_type": "display_data"
        },
        {
          "data": {
            "application/vnd.jupyter.widget-view+json": {
              "model_id": "dc604165b21a4b56bedde35bfa8a26c3",
              "version_major": 2,
              "version_minor": 0
            },
            "text/plain": [
              "HTML(value='<b><font color=\"Red\">Chatbot:</font></b>  It is not clear if Bang has a lawsuit.')"
            ]
          },
          "metadata": {},
          "output_type": "display_data"
        },
        {
          "name": "stdout",
          "output_type": "stream",
          "text": [
            "Thanks for the chat!\n"
          ]
        }
      ],
      "source": [
        "chat_history = []\n",
        "\n",
        "def on_submit(_):\n",
        "    query = input_box.value\n",
        "    input_box.value = \"\"\n",
        "    \n",
        "    if query.lower() == 'exit':\n",
        "        print(\"Thanks for the chat!\")\n",
        "        return\n",
        "    \n",
        "    result = qa({\"question\": query, \"chat_history\": chat_history})\n",
        "    chat_history.append((query, result['answer']))\n",
        "    \n",
        "    display(widgets.HTML(f'<b>User:</b> {query}'))\n",
        "    display(widgets.HTML(f'<b><font color=\"Red\">Chatbot:</font></b> {result[\"answer\"]}'))\n",
        "\n",
        "print(\"Chat with your data. Type 'exit' to stop\")\n",
        "\n",
        "input_box = widgets.Text(placeholder='Please enter your question:')\n",
        "input_box.on_submit(on_submit)\n",
        "\n",
        "display(input_box)"
      ]
    }
  ],
  "metadata": {
    "colab": {
      "authorship_tag": "ABX9TyPZw2K7M/AjT+BeF+DKgYK4",
      "include_colab_link": true,
      "provenance": []
    },
    "kernelspec": {
      "display_name": "Python 3",
      "name": "python3"
    },
    "language_info": {
      "codemirror_mode": {
        "name": "ipython",
        "version": 3
      },
      "file_extension": ".py",
      "mimetype": "text/x-python",
      "name": "python",
      "nbconvert_exporter": "python",
      "pygments_lexer": "ipython3",
      "version": "3.11.5"
    },
    "widgets": {
      "application/vnd.jupyter.widget-state+json": {
        "0a59ae49aefe454dac82fd3cfa509201": {
          "model_module": "@jupyter-widgets/controls",
          "model_module_version": "1.5.0",
          "model_name": "DescriptionStyleModel",
          "state": {
            "_model_module": "@jupyter-widgets/controls",
            "_model_module_version": "1.5.0",
            "_model_name": "DescriptionStyleModel",
            "_view_count": null,
            "_view_module": "@jupyter-widgets/base",
            "_view_module_version": "1.2.0",
            "_view_name": "StyleView",
            "description_width": ""
          }
        },
        "194fcb196a394e8cb78d9e39ef9461c0": {
          "model_module": "@jupyter-widgets/base",
          "model_module_version": "1.2.0",
          "model_name": "LayoutModel",
          "state": {
            "_model_module": "@jupyter-widgets/base",
            "_model_module_version": "1.2.0",
            "_model_name": "LayoutModel",
            "_view_count": null,
            "_view_module": "@jupyter-widgets/base",
            "_view_module_version": "1.2.0",
            "_view_name": "LayoutView",
            "align_content": null,
            "align_items": null,
            "align_self": null,
            "border": null,
            "bottom": null,
            "display": null,
            "flex": null,
            "flex_flow": null,
            "grid_area": null,
            "grid_auto_columns": null,
            "grid_auto_flow": null,
            "grid_auto_rows": null,
            "grid_column": null,
            "grid_gap": null,
            "grid_row": null,
            "grid_template_areas": null,
            "grid_template_columns": null,
            "grid_template_rows": null,
            "height": null,
            "justify_content": null,
            "justify_items": null,
            "left": null,
            "margin": null,
            "max_height": null,
            "max_width": null,
            "min_height": null,
            "min_width": null,
            "object_fit": null,
            "object_position": null,
            "order": null,
            "overflow": null,
            "overflow_x": null,
            "overflow_y": null,
            "padding": null,
            "right": null,
            "top": null,
            "visibility": null,
            "width": null
          }
        },
        "3f22048167ab4e6a99ff352e4881d6f5": {
          "model_module": "@jupyter-widgets/controls",
          "model_module_version": "1.5.0",
          "model_name": "DescriptionStyleModel",
          "state": {
            "_model_module": "@jupyter-widgets/controls",
            "_model_module_version": "1.5.0",
            "_model_name": "DescriptionStyleModel",
            "_view_count": null,
            "_view_module": "@jupyter-widgets/base",
            "_view_module_version": "1.2.0",
            "_view_name": "StyleView",
            "description_width": ""
          }
        },
        "52fddac56425425fb1b3f6c41a83ad40": {
          "model_module": "@jupyter-widgets/base",
          "model_module_version": "1.2.0",
          "model_name": "LayoutModel",
          "state": {
            "_model_module": "@jupyter-widgets/base",
            "_model_module_version": "1.2.0",
            "_model_name": "LayoutModel",
            "_view_count": null,
            "_view_module": "@jupyter-widgets/base",
            "_view_module_version": "1.2.0",
            "_view_name": "LayoutView",
            "align_content": null,
            "align_items": null,
            "align_self": null,
            "border": null,
            "bottom": null,
            "display": null,
            "flex": null,
            "flex_flow": null,
            "grid_area": null,
            "grid_auto_columns": null,
            "grid_auto_flow": null,
            "grid_auto_rows": null,
            "grid_column": null,
            "grid_gap": null,
            "grid_row": null,
            "grid_template_areas": null,
            "grid_template_columns": null,
            "grid_template_rows": null,
            "height": null,
            "justify_content": null,
            "justify_items": null,
            "left": null,
            "margin": null,
            "max_height": null,
            "max_width": null,
            "min_height": null,
            "min_width": null,
            "object_fit": null,
            "object_position": null,
            "order": null,
            "overflow": null,
            "overflow_x": null,
            "overflow_y": null,
            "padding": null,
            "right": null,
            "top": null,
            "visibility": null,
            "width": null
          }
        },
        "5434caeb5dc840a0a1996b7f1151e9d1": {
          "model_module": "@jupyter-widgets/controls",
          "model_module_version": "1.5.0",
          "model_name": "HTMLModel",
          "state": {
            "_dom_classes": [],
            "_model_module": "@jupyter-widgets/controls",
            "_model_module_version": "1.5.0",
            "_model_name": "HTMLModel",
            "_view_count": null,
            "_view_module": "@jupyter-widgets/controls",
            "_view_module_version": "1.5.0",
            "_view_name": "HTMLView",
            "description": "",
            "description_tooltip": null,
            "layout": "IPY_MODEL_52fddac56425425fb1b3f6c41a83ad40",
            "placeholder": "​",
            "style": "IPY_MODEL_6119c20941e645fe85777d8a40134f45",
            "value": "<b>User:</b> who are the authors of gpt4al"
          }
        },
        "6119c20941e645fe85777d8a40134f45": {
          "model_module": "@jupyter-widgets/controls",
          "model_module_version": "1.5.0",
          "model_name": "DescriptionStyleModel",
          "state": {
            "_model_module": "@jupyter-widgets/controls",
            "_model_module_version": "1.5.0",
            "_model_name": "DescriptionStyleModel",
            "_view_count": null,
            "_view_module": "@jupyter-widgets/base",
            "_view_module_version": "1.2.0",
            "_view_name": "StyleView",
            "description_width": ""
          }
        },
        "7ebbefa2c67d44a6bb7a1ceaf61f9b63": {
          "model_module": "@jupyter-widgets/controls",
          "model_module_version": "1.5.0",
          "model_name": "HTMLModel",
          "state": {
            "_dom_classes": [],
            "_model_module": "@jupyter-widgets/controls",
            "_model_module_version": "1.5.0",
            "_model_name": "HTMLModel",
            "_view_count": null,
            "_view_module": "@jupyter-widgets/controls",
            "_view_module_version": "1.5.0",
            "_view_name": "HTMLView",
            "description": "",
            "description_tooltip": null,
            "layout": "IPY_MODEL_da35600790c34a9db211e75bbd47d00b",
            "placeholder": "​",
            "style": "IPY_MODEL_0a59ae49aefe454dac82fd3cfa509201",
            "value": "<b><font color=\"Orange\">Chatbot:</font></b>  The authors of GPT4All are Yuvanesh Anand, Zach Nussbaum, Brandon Duderstadt, Benjamin M. Schmidt, Adam Treat, and Andriy Mulyar."
          }
        },
        "8217b151f57a44d68f2135fba059de9f": {
          "model_module": "@jupyter-widgets/controls",
          "model_module_version": "1.5.0",
          "model_name": "HTMLModel",
          "state": {
            "_dom_classes": [],
            "_model_module": "@jupyter-widgets/controls",
            "_model_module_version": "1.5.0",
            "_model_name": "HTMLModel",
            "_view_count": null,
            "_view_module": "@jupyter-widgets/controls",
            "_view_module_version": "1.5.0",
            "_view_name": "HTMLView",
            "description": "",
            "description_tooltip": null,
            "layout": "IPY_MODEL_96f4fd5d75874fa3a9ba1f6d74b86855",
            "placeholder": "​",
            "style": "IPY_MODEL_cb41fc15e4e84ddea00a1a63544486b6",
            "value": "<b><font color=\"Orange\">Chatbot:</font></b> \n\nPandas AI is a Python library that adds generative artificial intelligence capabilities to Pandas, the popular data analysis and manipulation tool. It is designed to be used in conjunction with Pandas, and is not a replacement for it."
          }
        },
        "87f711d699b443eeac5301e31e139210": {
          "model_module": "@jupyter-widgets/controls",
          "model_module_version": "1.5.0",
          "model_name": "DescriptionStyleModel",
          "state": {
            "_model_module": "@jupyter-widgets/controls",
            "_model_module_version": "1.5.0",
            "_model_name": "DescriptionStyleModel",
            "_view_count": null,
            "_view_module": "@jupyter-widgets/base",
            "_view_module_version": "1.2.0",
            "_view_name": "StyleView",
            "description_width": ""
          }
        },
        "93bdfcd316b94785a9f63b54fb2e7eed": {
          "model_module": "@jupyter-widgets/controls",
          "model_module_version": "1.5.0",
          "model_name": "TextModel",
          "state": {
            "_dom_classes": [],
            "_model_module": "@jupyter-widgets/controls",
            "_model_module_version": "1.5.0",
            "_model_name": "TextModel",
            "_view_count": null,
            "_view_module": "@jupyter-widgets/controls",
            "_view_module_version": "1.5.0",
            "_view_name": "TextView",
            "continuous_update": true,
            "description": "",
            "description_tooltip": null,
            "disabled": false,
            "layout": "IPY_MODEL_194fcb196a394e8cb78d9e39ef9461c0",
            "placeholder": "Please enter your question:",
            "style": "IPY_MODEL_87f711d699b443eeac5301e31e139210",
            "value": ""
          }
        },
        "96f4fd5d75874fa3a9ba1f6d74b86855": {
          "model_module": "@jupyter-widgets/base",
          "model_module_version": "1.2.0",
          "model_name": "LayoutModel",
          "state": {
            "_model_module": "@jupyter-widgets/base",
            "_model_module_version": "1.2.0",
            "_model_name": "LayoutModel",
            "_view_count": null,
            "_view_module": "@jupyter-widgets/base",
            "_view_module_version": "1.2.0",
            "_view_name": "LayoutView",
            "align_content": null,
            "align_items": null,
            "align_self": null,
            "border": null,
            "bottom": null,
            "display": null,
            "flex": null,
            "flex_flow": null,
            "grid_area": null,
            "grid_auto_columns": null,
            "grid_auto_flow": null,
            "grid_auto_rows": null,
            "grid_column": null,
            "grid_gap": null,
            "grid_row": null,
            "grid_template_areas": null,
            "grid_template_columns": null,
            "grid_template_rows": null,
            "height": null,
            "justify_content": null,
            "justify_items": null,
            "left": null,
            "margin": null,
            "max_height": null,
            "max_width": null,
            "min_height": null,
            "min_width": null,
            "object_fit": null,
            "object_position": null,
            "order": null,
            "overflow": null,
            "overflow_x": null,
            "overflow_y": null,
            "padding": null,
            "right": null,
            "top": null,
            "visibility": null,
            "width": null
          }
        },
        "9c92fcac4b2b44dabe4210335e479af6": {
          "model_module": "@jupyter-widgets/controls",
          "model_module_version": "1.5.0",
          "model_name": "HTMLModel",
          "state": {
            "_dom_classes": [],
            "_model_module": "@jupyter-widgets/controls",
            "_model_module_version": "1.5.0",
            "_model_name": "HTMLModel",
            "_view_count": null,
            "_view_module": "@jupyter-widgets/controls",
            "_view_module_version": "1.5.0",
            "_view_name": "HTMLView",
            "description": "",
            "description_tooltip": null,
            "layout": "IPY_MODEL_d30bddef5eff4ba39adbfc977d1b543d",
            "placeholder": "​",
            "style": "IPY_MODEL_3f22048167ab4e6a99ff352e4881d6f5",
            "value": "<b>User:</b> what is pandas ai "
          }
        },
        "cb41fc15e4e84ddea00a1a63544486b6": {
          "model_module": "@jupyter-widgets/controls",
          "model_module_version": "1.5.0",
          "model_name": "DescriptionStyleModel",
          "state": {
            "_model_module": "@jupyter-widgets/controls",
            "_model_module_version": "1.5.0",
            "_model_name": "DescriptionStyleModel",
            "_view_count": null,
            "_view_module": "@jupyter-widgets/base",
            "_view_module_version": "1.2.0",
            "_view_name": "StyleView",
            "description_width": ""
          }
        },
        "d30bddef5eff4ba39adbfc977d1b543d": {
          "model_module": "@jupyter-widgets/base",
          "model_module_version": "1.2.0",
          "model_name": "LayoutModel",
          "state": {
            "_model_module": "@jupyter-widgets/base",
            "_model_module_version": "1.2.0",
            "_model_name": "LayoutModel",
            "_view_count": null,
            "_view_module": "@jupyter-widgets/base",
            "_view_module_version": "1.2.0",
            "_view_name": "LayoutView",
            "align_content": null,
            "align_items": null,
            "align_self": null,
            "border": null,
            "bottom": null,
            "display": null,
            "flex": null,
            "flex_flow": null,
            "grid_area": null,
            "grid_auto_columns": null,
            "grid_auto_flow": null,
            "grid_auto_rows": null,
            "grid_column": null,
            "grid_gap": null,
            "grid_row": null,
            "grid_template_areas": null,
            "grid_template_columns": null,
            "grid_template_rows": null,
            "height": null,
            "justify_content": null,
            "justify_items": null,
            "left": null,
            "margin": null,
            "max_height": null,
            "max_width": null,
            "min_height": null,
            "min_width": null,
            "object_fit": null,
            "object_position": null,
            "order": null,
            "overflow": null,
            "overflow_x": null,
            "overflow_y": null,
            "padding": null,
            "right": null,
            "top": null,
            "visibility": null,
            "width": null
          }
        },
        "da35600790c34a9db211e75bbd47d00b": {
          "model_module": "@jupyter-widgets/base",
          "model_module_version": "1.2.0",
          "model_name": "LayoutModel",
          "state": {
            "_model_module": "@jupyter-widgets/base",
            "_model_module_version": "1.2.0",
            "_model_name": "LayoutModel",
            "_view_count": null,
            "_view_module": "@jupyter-widgets/base",
            "_view_module_version": "1.2.0",
            "_view_name": "LayoutView",
            "align_content": null,
            "align_items": null,
            "align_self": null,
            "border": null,
            "bottom": null,
            "display": null,
            "flex": null,
            "flex_flow": null,
            "grid_area": null,
            "grid_auto_columns": null,
            "grid_auto_flow": null,
            "grid_auto_rows": null,
            "grid_column": null,
            "grid_gap": null,
            "grid_row": null,
            "grid_template_areas": null,
            "grid_template_columns": null,
            "grid_template_rows": null,
            "height": null,
            "justify_content": null,
            "justify_items": null,
            "left": null,
            "margin": null,
            "max_height": null,
            "max_width": null,
            "min_height": null,
            "min_width": null,
            "object_fit": null,
            "object_position": null,
            "order": null,
            "overflow": null,
            "overflow_x": null,
            "overflow_y": null,
            "padding": null,
            "right": null,
            "top": null,
            "visibility": null,
            "width": null
          }
        }
      }
    }
  },
  "nbformat": 4,
  "nbformat_minor": 0
}
